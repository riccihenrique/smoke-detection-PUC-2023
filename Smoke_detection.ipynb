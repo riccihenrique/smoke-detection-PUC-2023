{
  "cells": [
    {
      "cell_type": "code",
      "execution_count": null,
      "metadata": {
        "id": "YDmA--eowMz0"
      },
      "outputs": [],
      "source": [
        "!pip install roboflow\n",
        "\n",
        "from roboflow import Roboflow\n",
        "rf = Roboflow(api_key=\"gFYtUrZhLA0MakrBM9AW\")\n",
        "project = rf.workspace(\"brad-dwyer\").project(\"wildfire-smoke\")\n",
        "dataset = project.version(1).download(\"yolov7\")"
      ]
    },
    {
      "cell_type": "code",
      "execution_count": 5,
      "metadata": {
        "id": "JudWA5qcnpaZ"
      },
      "outputs": [],
      "source": [
        "from google.colab.patches import cv2_imshow\n",
        "from scipy.signal import correlate2d\n",
        "from scipy.stats import spearmanr\n",
        "import matplotlib.pyplot as plt\n",
        "import numpy as np\n",
        "import cv2\n",
        "import os"
      ]
    },
    {
      "cell_type": "markdown",
      "metadata": {
        "id": "V6QaTPUUmI1r"
      },
      "source": [
        "## Database analysis"
      ]
    },
    {
      "cell_type": "code",
      "execution_count": 6,
      "metadata": {
        "colab": {
          "base_uri": "https://localhost:8080/"
        },
        "id": "ldQngrvUmIAv",
        "outputId": "fd022e17-916e-4f6b-8632-899dfe98deaa"
      },
      "outputs": [
        {
          "output_type": "stream",
          "name": "stdout",
          "text": [
            "/content/Wildfire-Smoke-1\n"
          ]
        }
      ],
      "source": [
        "%cd /content/Wildfire-Smoke-1"
      ]
    },
    {
      "cell_type": "code",
      "execution_count": null,
      "metadata": {
        "id": "jpCfiekAH5le"
      },
      "outputs": [],
      "source": [
        "def show_dataset_shape_info(path):\n",
        "  obj = {}\n",
        "  for file in os.listdir(path):\n",
        "    if '.jpg' not in file:\n",
        "      continue\n",
        "    image = cv2.imread(path + '/' + file)\n",
        "\n",
        "    key = str(image.shape)\n",
        "\n",
        "    if key not in obj:\n",
        "      obj[key] = 1\n",
        "    else:\n",
        "      obj[key] += 1\n",
        "\n",
        "  print(obj)"
      ]
    },
    {
      "cell_type": "code",
      "execution_count": null,
      "metadata": {
        "colab": {
          "base_uri": "https://localhost:8080/"
        },
        "id": "RpOVKp8Nmyze",
        "outputId": "09069e0e-3784-447d-c3ed-2c0f445be462"
      },
      "outputs": [
        {
          "name": "stdout",
          "output_type": "stream",
          "text": [
            "{'(480, 640, 3)': 74}\n",
            "{'(480, 640, 3)': 516}\n",
            "{'(480, 640, 3)': 147}\n"
          ]
        }
      ],
      "source": [
        "show_dataset_shape_info('test/images')  # test\n",
        "show_dataset_shape_info('train/images') # train\n",
        "show_dataset_shape_info('valid/images') # valid"
      ]
    },
    {
      "cell_type": "code",
      "execution_count": null,
      "metadata": {
        "id": "1ocKUZwcKnq9"
      },
      "outputs": [],
      "source": [
        "def check_images_without_label(path):\n",
        "  print('Total files: ', len(os.listdir(path)))\n",
        "  for file in os.listdir(path):\n",
        "    if '.txt' not in file:\n",
        "      continue\n",
        "    file_opened = open(path + '/' + file)\n",
        "    file_content = file_opened.read()\n",
        "\n",
        "    if (len(file_content.split(' ')) != 5): # verifica se possui a bouding box\n",
        "      print(file)"
      ]
    },
    {
      "cell_type": "code",
      "execution_count": null,
      "metadata": {
        "colab": {
          "base_uri": "https://localhost:8080/"
        },
        "id": "gm-ynFq5P8H8",
        "outputId": "e28ab471-a595-468b-a1ff-11f6b266e105"
      },
      "outputs": [
        {
          "name": "stdout",
          "output_type": "stream",
          "text": [
            "Total files:  74\n",
            "Total files:  516\n",
            "Total files:  147\n"
          ]
        }
      ],
      "source": [
        "check_images_without_label('test/labels')\n",
        "check_images_without_label('train/labels')\n",
        "check_images_without_label('valid/labels')"
      ]
    },
    {
      "cell_type": "code",
      "execution_count": null,
      "metadata": {
        "colab": {
          "base_uri": "https://localhost:8080/"
        },
        "id": "OmkI7zdUfGld",
        "outputId": "ffd85b59-d364-4889-bb9a-7f99da9c8da6"
      },
      "outputs": [
        {
          "name": "stdout",
          "output_type": "stream",
          "text": [
            "/content/Wildfire-Smoke-1\n"
          ]
        }
      ],
      "source": [
        "def create_unique_database():\n",
        "  %cd /content/Wildfire-Smoke-1\n",
        "  %mkdir database\n",
        "  %mv /content/Wildfire-Smoke-1/test/images /content/Wildfire-Smoke-1/database/images\n",
        "  %mv /content/Wildfire-Smoke-1/test/labels /content/Wildfire-Smoke-1/database/labels\n",
        "\n",
        "  %mv /content/Wildfire-Smoke-1/train/images/* /content/Wildfire-Smoke-1/database/images\n",
        "  %mv /content/Wildfire-Smoke-1/train/labels/* /content/Wildfire-Smoke-1/database/labels\n",
        "\n",
        "  %mv /content/Wildfire-Smoke-1/valid/images/* /content/Wildfire-Smoke-1/database/images\n",
        "  %mv /content/Wildfire-Smoke-1/valid/labels/* /content/Wildfire-Smoke-1/database/labels\n",
        "\n",
        "create_unique_database()"
      ]
    },
    {
      "cell_type": "code",
      "execution_count": null,
      "metadata": {
        "colab": {
          "base_uri": "https://localhost:8080/"
        },
        "id": "IvXzrUXcr4GI",
        "outputId": "12ed547a-a965-4630-cf82-08d5bfdac9ba"
      },
      "outputs": [
        {
          "name": "stdout",
          "output_type": "stream",
          "text": [
            "{'(480, 640, 3)': 737}\n",
            "Total files:  737\n"
          ]
        }
      ],
      "source": [
        "show_dataset_shape_info('database/images')  # database\n",
        "check_images_without_label('database/labels')"
      ]
    },
    {
      "cell_type": "markdown",
      "metadata": {
        "id": "ZC6fuxIZoJIG"
      },
      "source": [
        "## Pre-processing"
      ]
    },
    {
      "cell_type": "code",
      "execution_count": null,
      "metadata": {
        "id": "ejgQvHUxqCtR"
      },
      "outputs": [],
      "source": [
        "def flip_horizontal(image, label):  \n",
        "  image_flip = cv2.flip(image, 1)\n",
        "\n",
        "  label_flip = label.copy()\n",
        "  label_flip[:, 1] = (1 - label[:, 1])\n",
        "\n",
        "  return image_flip, label_flip"
      ]
    },
    {
      "cell_type": "code",
      "execution_count": null,
      "metadata": {
        "id": "60mUojp9w_IN"
      },
      "outputs": [],
      "source": [
        "def flip_vertical(image, label):  \n",
        "  image_flip = cv2.flip(image, 0)\n",
        "\n",
        "  label_flip = label.copy()\n",
        "  label_flip[:, 2] = (1 - label[:, 2])\n",
        "\n",
        "  return image_flip, label_flip"
      ]
    },
    {
      "cell_type": "code",
      "execution_count": null,
      "metadata": {
        "id": "z3P7OBEqM1-O"
      },
      "outputs": [],
      "source": [
        "def brightness(image, label, alpha=1.0, beta=60.0):  \n",
        "  image_brightness = cv2.convertScaleAbs(image, alpha=alpha, beta=beta)\n",
        "\n",
        "  return image_brightness, label.copy()"
      ]
    },
    {
      "cell_type": "code",
      "execution_count": null,
      "metadata": {
        "id": "a9JTO7EjOa1X"
      },
      "outputs": [],
      "source": [
        "def saturation(image, label, saturation_factor=50):\n",
        "  hsv_img = cv2.cvtColor(image, cv2.COLOR_BGR2HSV)\n",
        "  hsv_img[:,:,1] = np.clip(hsv_img[:,:,1] + saturation_factor, 0, 255)\n",
        "  saturate_image = cv2.cvtColor(hsv_img, cv2.COLOR_HSV2BGR)\n",
        "\n",
        "  return saturate_image, label.copy()"
      ]
    },
    {
      "cell_type": "code",
      "execution_count": null,
      "metadata": {
        "id": "9RU1TmKePFYx"
      },
      "outputs": [],
      "source": [
        "def smoothing(image, label, kernel_size = (5, 5)):   \n",
        "  blurred_img = cv2.GaussianBlur(image, kernel_size, 0)\n",
        "\n",
        "  return blurred_img, label.copy()"
      ]
    },
    {
      "cell_type": "code",
      "execution_count": null,
      "metadata": {
        "id": "U8n1YphMICxk"
      },
      "outputs": [],
      "source": [
        "def save_image_and_label(image, image_full_path, label, label_full_path):\n",
        "  cv2.imwrite(image_full_path + '.jpg', image)\n",
        "  np.savetxt(label_full_path + '.txt', label, fmt=[\"%d\", \"%.6f\", \"%.6f\", \"%.6f\", \"%.6f\"])"
      ]
    },
    {
      "cell_type": "code",
      "execution_count": null,
      "metadata": {
        "id": "eHe5G8LItZaf"
      },
      "outputs": [],
      "source": [
        "def plot_images(images, titles):\n",
        "  fig = plt.figure(figsize=(10, 8))\n",
        "  axes = fig.subplots(nrows=2, ncols=3)\n",
        "\n",
        "  for i, ax in enumerate(axes.flat):\n",
        "      if i < len(images):\n",
        "          rgb_image = cv2.cvtColor(images[i], cv2.COLOR_BGR2RGB)\n",
        "          ax.imshow(rgb_image)\n",
        "          ax.set_title(titles[i])\n",
        "\n",
        "      ax.set_axis_off()\n",
        "  \n",
        "  plt.subplots_adjust(hspace=0.001, wspace=0.1)\n",
        "  plt.show()"
      ]
    },
    {
      "cell_type": "code",
      "execution_count": null,
      "metadata": {
        "id": "Bca7hyp1ods7"
      },
      "outputs": [],
      "source": [
        "def data_augmentation(image_path, label_path, processing = []):\n",
        "  original_images_list = os.listdir(image_path)\n",
        "  for file in original_images_list:\n",
        "    if '.jpg' not in file:\n",
        "      continue\n",
        "    \n",
        "    image = cv2.imread(image_path + '/' + file)\n",
        "    label = np.loadtxt(label_path + '/' + file.split('.jpg')[0] + '.txt').reshape(-1, 5)\n",
        "    \n",
        "    base_img_path = image_path + '/' + file.split('.jpg')[0]\n",
        "    base_label_path = label_path + '/' + file.split('.jpg')[0]\n",
        "\n",
        "    img = [image]\n",
        "    titles = ['original']\n",
        "    for processing_technique in processing:      \n",
        "      if processing_technique == 'flip_horizontal':\n",
        "        new_image, new_label = flip_horizontal(image, label)\n",
        "      elif processing_technique == 'flip_vertical':\n",
        "        new_image, new_label = flip_vertical(image, label)\n",
        "      elif processing_technique == 'brightness':\n",
        "        new_image, new_label = brightness(image, label)\n",
        "      elif processing_technique == 'saturation':\n",
        "        new_image, new_label = saturation(image, label)\n",
        "      elif processing_technique == 'smoothing':\n",
        "        new_image, new_label = smoothing(image, label)\n",
        "      else:\n",
        "        continue\n",
        "      \n",
        "      img.append(new_image)\n",
        "      titles.append(processing_technique)\n",
        "      save_image_and_label(new_image, base_img_path + '.' + processing_technique, new_label, base_label_path + '.' + processing_technique)\n",
        "      \n",
        "    #plot_images(img, titles)\n",
        "    #break"
      ]
    },
    {
      "cell_type": "code",
      "execution_count": null,
      "metadata": {
        "id": "7vWI42RrzjhZ"
      },
      "outputs": [],
      "source": [
        "data_augmentation('database/images', 'database/labels', ['flip_horizontal', 'flip_vertical', 'brightness', 'saturation', 'smoothing'])"
      ]
    },
    {
      "cell_type": "code",
      "execution_count": null,
      "metadata": {
        "colab": {
          "base_uri": "https://localhost:8080/"
        },
        "id": "rbXXWPeGlgMP",
        "outputId": "98b94ae3-d336-4bab-8270-a3820affaccb"
      },
      "outputs": [
        {
          "name": "stdout",
          "output_type": "stream",
          "text": [
            "{'(480, 640, 3)': 4422}\n"
          ]
        }
      ],
      "source": [
        "show_dataset_shape_info('database/images') # conferir a nova quantidade de imagem e os formatos"
      ]
    },
    {
      "cell_type": "code",
      "execution_count": null,
      "metadata": {
        "colab": {
          "base_uri": "https://localhost:8080/"
        },
        "id": "kuIWW3R0S94Q",
        "outputId": "6253ed8c-f6ff-4f43-d377-1b404cb572ea"
      },
      "outputs": [
        {
          "name": "stdout",
          "output_type": "stream",
          "text": [
            "Total files:  4422\n"
          ]
        }
      ],
      "source": [
        "check_images_without_label('database/labels') # conferir a nova quantidade de labels"
      ]
    },
    {
      "cell_type": "markdown",
      "metadata": {
        "id": "Y__SFdq0oEwg"
      },
      "source": [
        "## Exploration"
      ]
    },
    {
      "cell_type": "code",
      "execution_count": 8,
      "metadata": {
        "id": "yXfaXLfYoIYP"
      },
      "outputs": [],
      "source": [
        "def view_image(path):\n",
        "  for file in os.listdir(path):\n",
        "    image = cv2.imread(path + '/' + file)\n",
        "\n",
        "    cv2_imshow(image)\n",
        "    cv2.waitKey(0)"
      ]
    },
    {
      "cell_type": "code",
      "execution_count": 10,
      "metadata": {
        "id": "2ofK8MLroPLI",
        "colab": {
          "base_uri": "https://localhost:8080/",
          "height": 283
        },
        "outputId": "ebdee428-44e6-4a9a-a637-1b89ff4b25cb"
      },
      "outputs": [
        {
          "output_type": "error",
          "ename": "FileNotFoundError",
          "evalue": "ignored",
          "traceback": [
            "\u001b[0;31m---------------------------------------------------------------------------\u001b[0m",
            "\u001b[0;31mFileNotFoundError\u001b[0m                         Traceback (most recent call last)",
            "\u001b[0;32m<ipython-input-10-b6ea6019ac8a>\u001b[0m in \u001b[0;36m<cell line: 1>\u001b[0;34m()\u001b[0m\n\u001b[0;32m----> 1\u001b[0;31m \u001b[0mview_image\u001b[0m\u001b[0;34m(\u001b[0m\u001b[0;34m'test/images'\u001b[0m\u001b[0;34m)\u001b[0m\u001b[0;34m\u001b[0m\u001b[0;34m\u001b[0m\u001b[0m\n\u001b[0m",
            "\u001b[0;32m<ipython-input-8-f0571bc64251>\u001b[0m in \u001b[0;36mview_image\u001b[0;34m(path)\u001b[0m\n\u001b[1;32m      1\u001b[0m \u001b[0;32mdef\u001b[0m \u001b[0mview_image\u001b[0m\u001b[0;34m(\u001b[0m\u001b[0mpath\u001b[0m\u001b[0;34m)\u001b[0m\u001b[0;34m:\u001b[0m\u001b[0;34m\u001b[0m\u001b[0;34m\u001b[0m\u001b[0m\n\u001b[0;32m----> 2\u001b[0;31m   \u001b[0;32mfor\u001b[0m \u001b[0mfile\u001b[0m \u001b[0;32min\u001b[0m \u001b[0mos\u001b[0m\u001b[0;34m.\u001b[0m\u001b[0mlistdir\u001b[0m\u001b[0;34m(\u001b[0m\u001b[0mpath\u001b[0m\u001b[0;34m)\u001b[0m\u001b[0;34m:\u001b[0m\u001b[0;34m\u001b[0m\u001b[0;34m\u001b[0m\u001b[0m\n\u001b[0m\u001b[1;32m      3\u001b[0m     \u001b[0mimage\u001b[0m \u001b[0;34m=\u001b[0m \u001b[0mcv2\u001b[0m\u001b[0;34m.\u001b[0m\u001b[0mimread\u001b[0m\u001b[0;34m(\u001b[0m\u001b[0mpath\u001b[0m \u001b[0;34m+\u001b[0m \u001b[0;34m'/'\u001b[0m \u001b[0;34m+\u001b[0m \u001b[0mfile\u001b[0m\u001b[0;34m)\u001b[0m\u001b[0;34m\u001b[0m\u001b[0;34m\u001b[0m\u001b[0m\n\u001b[1;32m      4\u001b[0m \u001b[0;34m\u001b[0m\u001b[0m\n\u001b[1;32m      5\u001b[0m     \u001b[0mcv2_imshow\u001b[0m\u001b[0;34m(\u001b[0m\u001b[0mimage\u001b[0m\u001b[0;34m)\u001b[0m\u001b[0;34m\u001b[0m\u001b[0;34m\u001b[0m\u001b[0m\n",
            "\u001b[0;31mFileNotFoundError\u001b[0m: [Errno 2] No such file or directory: 'test/images'"
          ]
        }
      ],
      "source": [
        "view_image('test/images')"
      ]
    },
    {
      "cell_type": "code",
      "execution_count": null,
      "metadata": {
        "id": "gCWwIHy4yDD9"
      },
      "outputs": [],
      "source": [
        "# unused - wrong implementation cause Pearson correlation it is a better choice for categorical \n",
        "def coorelation_pearson(path):\n",
        "  min_corr = {\n",
        "      'image1': '',\n",
        "      'image2': '',\n",
        "      'cor': 1,\n",
        "  }\n",
        "\n",
        "  files_checked = []\n",
        "  for file1 in os.listdir(path):\n",
        "    if ('.jpg' not in file1):\n",
        "      continue\n",
        "    image1 = cv2.imread(path + '/' + file1)\n",
        "    files_checked.append(file1)\n",
        "\n",
        "    for file2 in os.listdir(path):\n",
        "      if '.jpg' not in file2:\n",
        "        continue\n",
        "\n",
        "      if file2 in files_checked:\n",
        "        continue\n",
        "\n",
        "      image2 = cv2.imread(path + '/' + file2)\n",
        "\n",
        "      image1_gray = cv2.cvtColor(image1, cv2.COLOR_BGR2GRAY)\n",
        "      image2_gray = cv2.cvtColor(image2, cv2.COLOR_BGR2GRAY)\n",
        "\n",
        "      correlacao = np.corrcoef(image1_gray.flatten(), image2_gray.flatten())[0, 1]\n",
        "\n",
        "      if correlacao < min_corr['cor']:\n",
        "        print(correlacao)\n",
        "        min_corr['cor'] = correlacao\n",
        "        min_corr['image1'] = file1\n",
        "        min_corr['image2'] = file2\n",
        "\n",
        "      #if correlacao < 0:\n",
        "      #  print(file1, '->' , file2)\n",
        "\n",
        "  print(min_corr)\n",
        "\n",
        "coorelation_pearson('database/images')"
      ]
    },
    {
      "cell_type": "code",
      "execution_count": null,
      "metadata": {
        "id": "rJTk1RnBI_Jv"
      },
      "outputs": [],
      "source": [
        "def cross_correlation(path):\n",
        "  image_base = cv2.imread('/content/Wildfire-Smoke-1/database/images/ck0k99e6p79go0944lmxivkmv_jpeg.rf.035851b1218826a8d8e1f6cff055da7a.flip_horizontal.jpg', 0)\n",
        "\n",
        "  arr = []\n",
        "  mean_arr = []\n",
        "  for i, file in enumerate(os.listdir(path)):\n",
        "      image = cv2.imread(path + '/' + file, 0)\n",
        "\n",
        "      fft_imagem1 = np.fft.fft2(image_base)\n",
        "      fft_imagem2 = np.fft.fft2(image)\n",
        "\n",
        "      correlacao = np.fft.ifft2(fft_imagem1 * np.conj(fft_imagem2))\n",
        "      correlacao = abs( 255 - ((np.abs(correlacao) / np.max(correlacao)) * 255))\n",
        "\n",
        "      arr.append(correlacao)\n",
        "      \n",
        "      if i % 500 == 0:\n",
        "        mean_arr.append(list(np.mean(np.array(arr), axis=0)))\n",
        "        arr = []\n",
        "\n",
        "  cv2_imshow(np.mean(np.array(mean_arr), axis=0))\n",
        "\n",
        "cross_correlation('database/images')"
      ]
    },
    {
      "cell_type": "code",
      "execution_count": null,
      "metadata": {
        "id": "Bf0PB1idr_Jw"
      },
      "outputs": [],
      "source": [
        "def calculate_hist_mean(path):\n",
        "  num_bins = 256\n",
        "  hist_sum = np.zeros(num_bins)\n",
        "  image_path = os.listdir(path)\n",
        "\n",
        "  for file in image_path:\n",
        "      image = cv2.imread(path + '/' + file)\n",
        "      \n",
        "      image_gray = cv2.cvtColor(image, cv2.COLOR_BGR2GRAY)\n",
        "      hist = cv2.calcHist([image_gray], [0], None, [num_bins], [0, num_bins])\n",
        "      \n",
        "      hist_sum += hist.flatten()\n",
        "\n",
        "  total_images = len(image_path)\n",
        "  hist_mean = hist_sum / total_images\n",
        "  plt.plot(hist_mean)\n",
        "\n",
        "  plt.title('Histograma Médio')\n",
        "  plt.xlabel('Intensidade de Pixel')\n",
        "  plt.ylabel('Frequência')\n",
        "  plt.show()"
      ]
    },
    {
      "cell_type": "code",
      "execution_count": null,
      "metadata": {
        "id": "rQPdwdTAsuYH"
      },
      "outputs": [],
      "source": [
        "calculate_hist_mean('database/images')"
      ]
    },
    {
      "cell_type": "code",
      "execution_count": null,
      "metadata": {
        "id": "zyM26Z6OA8cZ"
      },
      "outputs": [],
      "source": [
        "def get_labels_in_list(path, image_width, image_height):\n",
        "  bouding_boxes = []\n",
        "  for file in os.listdir(path):\n",
        "    file_opened = open(path + '/' + file)\n",
        "    file_content = file_opened.read()\n",
        "    \n",
        "    x, y, w, h = list(map(float, file_content.split(' ')[1:]))\n",
        "    x = x * image_width\n",
        "    y = y * image_height\n",
        "    w = w * image_width\n",
        "    h = h * image_height\n",
        "\n",
        "    left = int(x - w / 2)\n",
        "    top = int(y - h / 2)\n",
        "    right = int(x + w / 2)\n",
        "    bottom = int(y + h / 2)\n",
        "    \n",
        "    bouding_boxes.append([left, top, right, bottom])\n",
        "\n",
        "  return bouding_boxes\n",
        "\n",
        "rectangles = np.zeros_like(np.empty((480, 640, 3)))[:, :, 0].astype('float32')\n",
        "for row in get_labels_in_list('database/labels', 640, 480):\n",
        "    l, t, r, b = row\n",
        "    rectangles[int(t):int(b), int(l):int(r)] += 1\n",
        "    \n",
        "rectangles[rectangles == 0] = np.nan\n",
        "\n",
        "plt.imshow(rectangles, alpha=0.5)"
      ]
    },
    {
      "cell_type": "markdown",
      "metadata": {
        "id": "HVFD0brZhdBB"
      },
      "source": [
        "## Configuração da YoloV7"
      ]
    },
    {
      "cell_type": "code",
      "execution_count": null,
      "metadata": {
        "id": "5pvMTYExZ0g9"
      },
      "outputs": [],
      "source": [
        "!git clone https://github.com/WongKinYiu/yolov7\n",
        "%cd /content/yolov7\n",
        "!pip install -r requirements.txt"
      ]
    },
    {
      "cell_type": "markdown",
      "metadata": {
        "id": "npc0W6bahvak"
      },
      "source": [
        "## Fine-tuning based in Coco training"
      ]
    },
    {
      "cell_type": "code",
      "execution_count": null,
      "metadata": {
        "id": "7TXid9h5hoS5"
      },
      "outputs": [],
      "source": [
        "%cd /content/yolov7\n",
        "!wget https://github.com/WongKinYiu/yolov7/releases/download/v0.1/yolov7_training.pt"
      ]
    },
    {
      "cell_type": "markdown",
      "metadata": {
        "id": "MXfl33Lah-7g"
      },
      "source": [
        "Treinamento"
      ]
    },
    {
      "cell_type": "code",
      "execution_count": null,
      "metadata": {
        "id": "RYrb0tuNiAox"
      },
      "outputs": [],
      "source": [
        "%cd /content/yolov7\n",
        "!python train.py --batch 16 --epochs 20 --data '/content/smoke-detection-2/data.yaml' --weights 'yolov7_training.pt' --device 0 "
      ]
    },
    {
      "cell_type": "code",
      "execution_count": null,
      "metadata": {
        "id": "XSUqhp7kiO2l"
      },
      "outputs": [],
      "source": []
    }
  ],
  "metadata": {
    "colab": {
      "provenance": []
    },
    "kernelspec": {
      "display_name": "Python 3",
      "name": "python3"
    },
    "language_info": {
      "name": "python"
    }
  },
  "nbformat": 4,
  "nbformat_minor": 0
}